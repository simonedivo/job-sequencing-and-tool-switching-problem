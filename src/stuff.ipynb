{
 "cells": [
  {
   "cell_type": "code",
   "execution_count": 1,
   "metadata": {},
   "outputs": [],
   "source": [
    "import gurobipy as gp\n",
    "from gurobipy import GRB\n",
    "from models.JGS import JGSModel\n",
    "import pandas as pd\n",
    "import os"
   ]
  },
  {
   "cell_type": "code",
   "execution_count": 2,
   "metadata": {},
   "outputs": [],
   "source": [
    "def retrieve_format_data(file_path):\n",
    "    with open(file_path, 'r') as file:\n",
    "        lines = file.readlines()\n",
    "        \n",
    "        first_row = lines[0].strip().split()\n",
    "        num_jobs = int(first_row[0])\n",
    "        num_tools = int(first_row[1])\n",
    "        magazine_capacity = int(first_row[2])\n",
    "        \n",
    "        job_tools = {job: [] for job in range(1, num_jobs + 1)}\n",
    "        \n",
    "        for tool_index, line in enumerate(lines[1:], start=1):\n",
    "            tool_requirements = [int(x) for x in line.strip().split()]\n",
    "            for job_index, requirement in enumerate(tool_requirements, start=1):\n",
    "                if requirement == 1:\n",
    "                    job_tools[job_index].append(tool_index)\n",
    "                    \n",
    "    return num_jobs, num_tools, magazine_capacity, job_tools"
   ]
  },
  {
   "cell_type": "code",
   "execution_count": 18,
   "metadata": {},
   "outputs": [
    {
     "name": "stdout",
     "output_type": "stream",
     "text": [
      "Number of Jobs: 9\n",
      "Number of Tools: 15\n",
      "Magazine Capacity: 5\n",
      "Job Tool Requirements: {1: [10, 12], 2: [3, 8, 12, 13, 14], 3: [4, 10], 4: [6, 8, 9, 14, 15], 5: [4, 9, 15], 6: [2, 5, 7, 13, 15], 7: [11, 14], 8: [4, 5, 14], 9: [1, 9]}\n"
     ]
    }
   ],
   "source": [
    "file_path = '../data/MTSP/Laporte/Tabela4/L1-1.txt'\n",
    "num_jobs, num_tools, magazine_capacity, job_tools = retrieve_format_data(file_path)\n",
    "\n",
    "print(\"Number of Jobs:\", num_jobs)\n",
    "print(\"Number of Tools:\", num_tools)\n",
    "print(\"Magazine Capacity:\", magazine_capacity)\n",
    "print(\"Job Tool Requirements:\", job_tools)"
   ]
  },
  {
   "cell_type": "code",
   "execution_count": null,
   "metadata": {},
   "outputs": [],
   "source": [
    "jobs = [x for x in range(1, num_jobs + 1)]\n",
    "tools = [x for x in range(1, num_tools + 1)]\n",
    "model = JGSModel(jobs, tools, magazine_capacity, job_tools)\n",
    "\n",
    "model.solve()\n",
    "\n",
    "solution = model.get_solution()\n",
    "print(solution)"
   ]
  },
  {
   "cell_type": "code",
   "execution_count": 3,
   "metadata": {},
   "outputs": [],
   "source": [
    "directory = '../data/MTSP/Laporte/Tabela4/'\n",
    "data = []\n",
    "\n",
    "for filename in os.listdir(directory):\n",
    "    if filename.endswith('.txt'):\n",
    "        file_path = os.path.join(directory, filename)\n",
    "        num_jobs, num_tools, magazine_capacity, job_tools = retrieve_format_data(file_path)\n",
    "        data.append([num_jobs, num_tools, magazine_capacity, job_tools])\n",
    "\n",
    "df = pd.DataFrame(data, columns=['num_jobs', 'num_tools', 'magazine_capacity', 'job_tools'])\n",
    "df = df.sample(frac=0.02).reset_index(drop=True)"
   ]
  },
  {
   "cell_type": "code",
   "execution_count": 4,
   "metadata": {},
   "outputs": [
    {
     "name": "stdout",
     "output_type": "stream",
     "text": [
      "Set parameter Username\n",
      "Academic license - for non-commercial use only - expires 2025-04-23\n"
     ]
    },
    {
     "ename": "KeyError",
     "evalue": "(1, 0)",
     "output_type": "error",
     "traceback": [
      "\u001b[0;31m---------------------------------------------------------------------------\u001b[0m",
      "\u001b[0;31mKeyError\u001b[0m                                  Traceback (most recent call last)",
      "Cell \u001b[0;32mIn[4], line 13\u001b[0m\n\u001b[1;32m     10\u001b[0m jobs \u001b[38;5;241m=\u001b[39m [x \u001b[38;5;28;01mfor\u001b[39;00m x \u001b[38;5;129;01min\u001b[39;00m \u001b[38;5;28mrange\u001b[39m(\u001b[38;5;241m1\u001b[39m, num_jobs \u001b[38;5;241m+\u001b[39m \u001b[38;5;241m1\u001b[39m)]\n\u001b[1;32m     11\u001b[0m tools \u001b[38;5;241m=\u001b[39m [x \u001b[38;5;28;01mfor\u001b[39;00m x \u001b[38;5;129;01min\u001b[39;00m \u001b[38;5;28mrange\u001b[39m(\u001b[38;5;241m1\u001b[39m, num_tools \u001b[38;5;241m+\u001b[39m \u001b[38;5;241m1\u001b[39m)]\n\u001b[0;32m---> 13\u001b[0m model \u001b[38;5;241m=\u001b[39m \u001b[43mJGSModel\u001b[49m\u001b[43m(\u001b[49m\u001b[43mjobs\u001b[49m\u001b[43m,\u001b[49m\u001b[43m \u001b[49m\u001b[43mtools\u001b[49m\u001b[43m,\u001b[49m\u001b[43m \u001b[49m\u001b[43mmagazine_capacity\u001b[49m\u001b[43m,\u001b[49m\u001b[43m \u001b[49m\u001b[43mjob_tools\u001b[49m\u001b[43m)\u001b[49m\n\u001b[1;32m     14\u001b[0m model\u001b[38;5;241m.\u001b[39mmodel\u001b[38;5;241m.\u001b[39msetParam(\u001b[38;5;124m'\u001b[39m\u001b[38;5;124mOutputFlag\u001b[39m\u001b[38;5;124m'\u001b[39m, \u001b[38;5;241m0\u001b[39m)\n\u001b[1;32m     15\u001b[0m model\u001b[38;5;241m.\u001b[39mmodel\u001b[38;5;241m.\u001b[39msetParam(\u001b[38;5;124m'\u001b[39m\u001b[38;5;124mTimeLimit\u001b[39m\u001b[38;5;124m'\u001b[39m, \u001b[38;5;241m60\u001b[39m\u001b[38;5;241m*\u001b[39m\u001b[38;5;241m60\u001b[39m)\n",
      "File \u001b[0;32m~/Documents/Università/Mathematical Optimization/progetto/src/models/JGS.py:30\u001b[0m, in \u001b[0;36mJGSModel.__init__\u001b[0;34m(self, jobs, tools, magazine_capacity, job_tool_requirements)\u001b[0m\n\u001b[1;32m     27\u001b[0m \u001b[38;5;28mself\u001b[39m\u001b[38;5;241m.\u001b[39mz \u001b[38;5;241m=\u001b[39m \u001b[38;5;28;01mNone\u001b[39;00m\n\u001b[1;32m     29\u001b[0m \u001b[38;5;28mself\u001b[39m\u001b[38;5;241m.\u001b[39msetup_variables()\n\u001b[0;32m---> 30\u001b[0m \u001b[38;5;28;43mself\u001b[39;49m\u001b[38;5;241;43m.\u001b[39;49m\u001b[43msetup_constraints\u001b[49m\u001b[43m(\u001b[49m\u001b[43m)\u001b[49m\n\u001b[1;32m     31\u001b[0m \u001b[38;5;28mself\u001b[39m\u001b[38;5;241m.\u001b[39msetup_objective()\n",
      "File \u001b[0;32m~/Documents/Università/Mathematical Optimization/progetto/src/models/JGS.py:78\u001b[0m, in \u001b[0;36mJGSModel.setup_constraints\u001b[0;34m(self)\u001b[0m\n\u001b[1;32m     75\u001b[0m \u001b[38;5;28;01mfor\u001b[39;00m t \u001b[38;5;129;01min\u001b[39;00m \u001b[38;5;28mself\u001b[39m\u001b[38;5;241m.\u001b[39mtools:\n\u001b[1;32m     76\u001b[0m     \u001b[38;5;28;01mfor\u001b[39;00m k \u001b[38;5;129;01min\u001b[39;00m \u001b[38;5;28mrange\u001b[39m(\u001b[38;5;241m1\u001b[39m, \u001b[38;5;28mself\u001b[39m\u001b[38;5;241m.\u001b[39mnum_bins \u001b[38;5;241m+\u001b[39m \u001b[38;5;241m1\u001b[39m):\n\u001b[1;32m     77\u001b[0m         \u001b[38;5;28mself\u001b[39m\u001b[38;5;241m.\u001b[39mmodel\u001b[38;5;241m.\u001b[39maddConstr(\n\u001b[0;32m---> 78\u001b[0m             \u001b[38;5;28mself\u001b[39m\u001b[38;5;241m.\u001b[39my[t, k] \u001b[38;5;241m==\u001b[39m \u001b[38;5;28;43mself\u001b[39;49m\u001b[38;5;241;43m.\u001b[39;49m\u001b[43my\u001b[49m\u001b[43m[\u001b[49m\u001b[43mt\u001b[49m\u001b[43m,\u001b[49m\u001b[43m \u001b[49m\u001b[43mk\u001b[49m\u001b[43m \u001b[49m\u001b[38;5;241;43m-\u001b[39;49m\u001b[43m \u001b[49m\u001b[38;5;241;43m1\u001b[39;49m\u001b[43m]\u001b[49m \u001b[38;5;241m+\u001b[39m \u001b[38;5;28mself\u001b[39m\u001b[38;5;241m.\u001b[39mv[t, k] \u001b[38;5;241m-\u001b[39m \u001b[38;5;28mself\u001b[39m\u001b[38;5;241m.\u001b[39mw[t, k],\n\u001b[1;32m     79\u001b[0m             name\u001b[38;5;241m=\u001b[39m\u001b[38;5;124mf\u001b[39m\u001b[38;5;124m\"\u001b[39m\u001b[38;5;124mToolFlow_Tool\u001b[39m\u001b[38;5;132;01m{\u001b[39;00mt\u001b[38;5;132;01m}\u001b[39;00m\u001b[38;5;124m_Bin\u001b[39m\u001b[38;5;132;01m{\u001b[39;00mk\u001b[38;5;132;01m}\u001b[39;00m\u001b[38;5;124m\"\u001b[39m\n\u001b[1;32m     80\u001b[0m         )\n\u001b[1;32m     82\u001b[0m \u001b[38;5;66;03m# Simmetry Breaking Cuts\u001b[39;00m\n\u001b[1;32m     83\u001b[0m \n\u001b[1;32m     84\u001b[0m \u001b[38;5;66;03m# If a job can be done earlier, it should be done earlier\u001b[39;00m\n\u001b[1;32m     85\u001b[0m \u001b[38;5;28;01mfor\u001b[39;00m i \u001b[38;5;129;01min\u001b[39;00m \u001b[38;5;28mself\u001b[39m\u001b[38;5;241m.\u001b[39mjobs:\n",
      "\u001b[0;31mKeyError\u001b[0m: (1, 0)"
     ]
    }
   ],
   "source": [
    "from models.JGS import JGSModel\n",
    "results = []\n",
    "\n",
    "for index, row in df.iterrows():\n",
    "    num_jobs = row['num_jobs']\n",
    "    num_tools = row['num_tools']\n",
    "    magazine_capacity = row['magazine_capacity']\n",
    "    job_tools = row['job_tools']\n",
    "\n",
    "    jobs = [x for x in range(1, num_jobs + 1)]\n",
    "    tools = [x for x in range(1, num_tools + 1)]\n",
    "\n",
    "    model = JGSModel(jobs, tools, magazine_capacity, job_tools)\n",
    "    model.model.setParam('OutputFlag', 0)\n",
    "    model.model.setParam('TimeLimit', 60*60)\n",
    "\n",
    "    model.solve()\n",
    "\n",
    "    if model.model.status == GRB.OPTIMAL:\n",
    "        solution_found = True\n",
    "        solution = model.get_solution()\n",
    "    else:\n",
    "        solution_found = False\n",
    "        solution = None\n",
    "\n",
    "    results.append([solution_found, solution])\n",
    "\n",
    "results_df = pd.DataFrame(results, columns=['solution_found', 'solution'])\n",
    "results_df\n",
    "        \n",
    "\n"
   ]
  },
  {
   "cell_type": "code",
   "execution_count": 5,
   "metadata": {},
   "outputs": [
    {
     "data": {
      "text/plain": [
       "0    ({(1, 8): 1.0, (2, 1): 1.0, (3, 9): 1.0, (4, 7...\n",
       "1    ({(1, 1): 1.0, (2, 1): 1.0, (3, 1): 1.0, (4, 1...\n",
       "2    ({(1, 3): 1.0, (2, 9): 1.0, (3, 2): 1.0, (4, 6...\n",
       "3    ({(1, 3): 1.0, (2, 5): 1.0, (3, 1): 1.0, (4, 4...\n",
       "4    ({(1, 2): 1.0, (2, 8): 1.0, (3, 3): 1.0, (4, 5...\n",
       "5    ({(1, 2): 1.0, (2, 7): 1.0, (3, 2): 1.0, (4, 5...\n",
       "6    ({(1, 2): 1.0, (2, 3): 1.0, (3, 9): 1.0, (4, 8...\n",
       "Name: solution, dtype: object"
      ]
     },
     "execution_count": 5,
     "metadata": {},
     "output_type": "execute_result"
    }
   ],
   "source": [
    "results_df.solution"
   ]
  }
 ],
 "metadata": {
  "kernelspec": {
   "display_name": "Python 3",
   "language": "python",
   "name": "python3"
  },
  "language_info": {
   "codemirror_mode": {
    "name": "ipython",
    "version": 3
   },
   "file_extension": ".py",
   "mimetype": "text/x-python",
   "name": "python",
   "nbconvert_exporter": "python",
   "pygments_lexer": "ipython3",
   "version": "3.12.7"
  }
 },
 "nbformat": 4,
 "nbformat_minor": 2
}
