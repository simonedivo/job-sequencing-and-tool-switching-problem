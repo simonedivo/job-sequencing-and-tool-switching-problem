{
 "cells": [
  {
   "cell_type": "code",
   "execution_count": null,
   "metadata": {},
   "outputs": [],
   "source": [
    "from gurobipy import GRB\n",
    "from models.SSPMF import SSPMFModel\n",
    "from models.JGSMF import solve_with_phases\n",
    "import pandas as pd\n",
    "import os\n",
    "from datetime import datetime\n",
    "\n",
    "def retrieve_format_data(file_path):\n",
    "    with open(file_path, 'r') as file:\n",
    "        lines = file.readlines()\n",
    "        \n",
    "        first_row = lines[0].strip().split()\n",
    "        num_jobs = int(first_row[0])\n",
    "        num_tools = int(first_row[1])\n",
    "        magazine_capacity = int(first_row[2])\n",
    "        \n",
    "        job_tools = {job: [] for job in range(1, num_jobs + 1)}\n",
    "        \n",
    "        for tool_index, line in enumerate(lines[1:], start=1):\n",
    "            tool_requirements = [int(x) for x in line.strip().split()]\n",
    "            for job_index, requirement in enumerate(tool_requirements, start=1):\n",
    "                if requirement == 1:\n",
    "                    job_tools[job_index].append(tool_index)\n",
    "                    \n",
    "    return num_jobs, num_tools, magazine_capacity, job_tools\n",
    "\n",
    "directory = '../data/MTSP/Laporte/Tabela4/'\n",
    "data = []\n",
    "\n",
    "for filename in os.listdir(directory):\n",
    "    if filename.endswith('.txt'):\n",
    "        file_path = os.path.join(directory, filename)\n",
    "        num_jobs, num_tools, magazine_capacity, job_tools = retrieve_format_data(file_path)\n",
    "        data.append([filename, num_jobs, num_tools, magazine_capacity, job_tools])\n",
    "\n",
    "df = pd.DataFrame(data, columns=['filename', 'num_jobs', 'num_tools', 'magazine_capacity', 'job_tools'])\n",
    "#df = df.sample(frac=0.02).reset_index(drop=True)"
   ]
  },
  {
   "cell_type": "code",
   "execution_count": null,
   "metadata": {},
   "outputs": [],
   "source": [
    "jobs = [1,2,3,4,5,6]\n",
    "tools = [1,2,3]\n",
    "magazine_capacity = 2\n",
    "job_tools = {1: [1,2], 2: [1], 3: [2], 4: [1,2], 5: [3], 6: [2,3]}\n",
    "\n",
    "results = solve_with_phases(jobs, tools, magazine_capacity, job_tools, 3600) \n",
    "if results is not None:\n",
    "    job_order, switches = results\n",
    "    print(job_order, switches)"
   ]
  },
  {
   "cell_type": "code",
   "execution_count": null,
   "metadata": {},
   "outputs": [
    {
     "name": "stdout",
     "output_type": "stream",
     "text": [
      "Jobs:  [1, 2, 3, 4, 5, 6, 7, 8, 9]\n",
      "Tools:  [1, 2, 3, 4, 5, 6, 7, 8, 9, 10, 11, 12, 13, 14, 15, 16, 17, 18, 19, 20]\n",
      "Magazine Capacity:  15\n",
      "Job Tools:  {1: [1, 2, 3, 6, 11, 13, 14, 16, 17, 18, 19, 20], 2: [1, 2, 4, 6, 7, 8, 11, 12, 16, 18, 19], 3: [4, 5, 6, 7, 8, 9, 10, 12, 13, 14, 15, 17, 18, 19, 20], 4: [1, 3, 4, 5, 9, 13, 14, 17, 18, 19], 5: [4, 5, 7, 8, 12, 13, 14, 16, 18, 20], 6: [1, 2, 3, 4, 5, 6, 8, 10, 11, 14, 15, 17, 20], 7: [1, 3, 5, 6, 7, 8, 9, 11, 12, 13, 15, 18, 19, 20], 8: [1, 2, 3, 4, 5, 7, 8, 9, 12, 14, 15, 16, 17, 20], 9: [1, 2, 3, 5, 8, 9, 11, 12, 13, 14, 15, 16, 17, 20]}\n",
      "Trying Phase 1 with 7 bins...\n",
      "Trying Phase 1 with 9 bins...\n",
      "Trying Phase 1 with 11 bins...\n",
      "Trying Phase 1 with 13 bins...\n",
      "Trying Phase 1 with 15 bins...\n",
      "Trying Phase 1 with 17 bins...\n",
      "\n",
      "Interrupt request received\n",
      "Trying Phase 1 with 17 bins...\n",
      "Trying Phase 1 with 19 bins...\n"
     ]
    }
   ],
   "source": [
    "file_path = '../data/MTSP/Laporte/Tabela4/L11-1.txt'\n",
    "num_jobs, num_tools, magazine_capacity, job_tools = retrieve_format_data(file_path)\n",
    "jobs = [x for x in range(1, num_jobs + 1)]\n",
    "tools = [x for x in range(1, num_tools + 1)]\n",
    "print(\"Jobs: \", jobs)\n",
    "print(\"Tools: \", tools)\n",
    "print(\"Magazine Capacity: \", magazine_capacity)\n",
    "print(\"Job Tools: \", job_tools)\n",
    "\n",
    "results = solve_with_phases(jobs, tools, magazine_capacity, job_tools, 120) \n",
    "if results is not None:\n",
    "    job_order, switches = results\n",
    "    print(job_order, switches)\n"
   ]
  },
  {
   "cell_type": "code",
   "execution_count": 3,
   "metadata": {},
   "outputs": [
    {
     "name": "stdout",
     "output_type": "stream",
     "text": [
      "Trying Phase 1 with 5 bins...\n",
      "Set parameter Username\n",
      "Academic license - for non-commercial use only - expires 2025-04-23\n",
      "Phase 1 found a solution with 5 bins and 5 switches.\n",
      "Trying Phase 2 with 6 bins...\n",
      "Found less or equal switches in phase 2 with 6 bins and 5 switches.\n",
      "Checking in phase 3...\n",
      "Solution found.\n",
      "[2, 8, 3, 1, 9, 5, 4, 6, 7] 5\n"
     ]
    }
   ],
   "source": [
    "file_path = '../data/MTSP/Laporte/Tabela4/L10-10.txt'\n",
    "num_jobs, num_tools, magazine_capacity, job_tools = retrieve_format_data(file_path)\n",
    "jobs = [x for x in range(1, num_jobs + 1)]\n",
    "tools = [x for x in range(1, num_tools + 1)]\n",
    "# print(\"Jobs: \", jobs)\n",
    "# print(\"Tools: \", tools)\n",
    "# print(\"Magazine Capacity: \", magazine_capacity)\n",
    "# print(\"Job Tools: \", job_tools)\n",
    "\n",
    "results = solve_with_phases(jobs, tools, magazine_capacity, job_tools, 120) \n",
    "if results is not None:\n",
    "    job_order, switches = results\n",
    "    print(job_order, switches)\n"
   ]
  },
  {
   "cell_type": "code",
   "execution_count": 2,
   "metadata": {},
   "outputs": [],
   "source": [
    "directory = '../data/MTSP/Laporte/Tabela4/'\n",
    "data = []\n",
    "\n",
    "for filename in os.listdir(directory):\n",
    "    if filename.endswith('.txt'):\n",
    "        file_path = os.path.join(directory, filename)\n",
    "        num_jobs, num_tools, magazine_capacity, job_tools = retrieve_format_data(file_path)\n",
    "        data.append([num_jobs, num_tools, magazine_capacity, job_tools])\n",
    "\n",
    "df = pd.DataFrame(data, columns=['num_jobs', 'num_tools', 'magazine_capacity', 'job_tools'])\n",
    "df = df.sample(frac=0.02).reset_index(drop=True)"
   ]
  },
  {
   "cell_type": "code",
   "execution_count": null,
   "metadata": {},
   "outputs": [
    {
     "name": "stdout",
     "output_type": "stream",
     "text": [
      "Current instance:  L1-1.txt\n",
      "Cliques: [[2, 4, 6, 1], [2, 4, 6, 3], [2, 4, 6, 5], [2, 4, 6, 7], [2, 4, 6, 8], [2, 4, 6, 9]]\n",
      "Optimal switches: 12\n",
      "Job Order:  [6, 3, 8, 1, 2, 7, 5, 9, 4]\n",
      "Current instance:  L1-10.txt\n",
      "Cliques: [[6, 7, 9, 4], [6, 7, 9, 5, 8], [6, 7, 9, 5, 3, 1], [6, 7, 9, 5, 3, 2]]\n",
      "Optimal switches: 12\n",
      "Job Order:  [2, 4, 8, 3, 1, 5, 6, 7, 9]\n",
      "Current instance:  L1-2.txt\n",
      "Cliques: [[1, 3, 5, 6, 7, 8], [1, 3, 5, 6, 7, 2, 9], [1, 3, 5, 6, 7, 2, 4]]\n",
      "Optimal switches: 13\n",
      "Job Order:  [7, 4, 1, 5, 6, 9, 3, 2, 8]\n",
      "Current instance:  L1-3.txt\n",
      "Cliques: [[1, 3, 4, 9, 2, 8, 7], [1, 3, 4, 9, 2, 6], [1, 3, 4, 9, 5, 8], [1, 3, 4, 9, 5, 6]]\n",
      "Optimal switches: 13\n",
      "Job Order:  [4, 6, 8, 7, 9, 1, 2, 5, 3]\n",
      "Current instance:  L1-4.txt\n",
      "Cliques: [[2, 5, 6, 7, 1, 8, 9, 3], [2, 5, 6, 7, 4]]\n",
      "Optimal switches: 13\n",
      "Job Order:  [9, 6, 8, 7, 5, 3, 2, 1, 4]\n",
      "Current instance:  L1-5.txt\n",
      "Cliques: [[3, 2, 8], [3, 2, 1, 6], [3, 2, 9], [3, 2, 7], [3, 4], [3, 5]]\n",
      "Optimal switches: 11\n",
      "Job Order:  [5, 1, 2, 8, 9, 4, 7, 6, 3]\n",
      "Current instance:  L1-6.txt\n",
      "Cliques: [[3, 5, 6, 7, 8, 9, 1], [3, 5, 6, 7, 8, 9, 4], [3, 5, 6, 7, 8, 2]]\n",
      "Optimal switches: 14\n",
      "Job Order:  [7, 5, 8, 6, 3, 2, 9, 1, 4]\n",
      "Current instance:  L1-7.txt\n",
      "Cliques: [[1, 3, 9, 2, 8], [1, 3, 9, 4, 8, 6, 7], [1, 3, 9, 4, 5]]\n",
      "Optimal switches: 12\n",
      "Job Order:  [3, 6, 4, 2, 7, 9, 5, 8, 1]\n",
      "Current instance:  L1-8.txt\n",
      "Cliques: [[2, 5, 1, 8, 4, 9], [2, 5, 1, 8, 4, 3], [2, 5, 1, 8, 6], [2, 5, 7]]\n",
      "Optimal switches: 12\n",
      "Job Order:  [1, 9, 3, 7, 5, 8, 4, 6, 2]\n",
      "Current instance:  L1-9.txt\n",
      "Cliques: [[3, 7, 9, 2, 8, 6], [3, 7, 9, 2, 1], [3, 7, 9, 4], [3, 7, 9, 5]]\n",
      "Optimal switches: 12\n",
      "Job Order:  [9, 7, 3, 5, 2, 1, 8, 4, 6]\n",
      "Current instance:  L10-1.txt\n",
      "Cliques: [[9, 5, 8, 1], [9, 5, 8, 2], [9, 5, 8, 4], [9, 5, 3], [9, 5, 7], [9, 6, 8]]\n",
      "Optimal switches: 10\n",
      "Job Order:  [8, 3, 2, 5, 1, 4, 6, 7, 9]\n",
      "Current instance:  L10-10.txt\n",
      "Cliques: [[1], [2], [3], [4], [5], [6], [7, 8], [9]]\n"
     ]
    }
   ],
   "source": [
    "results = []\n",
    "\n",
    "for index, row in df.iterrows():\n",
    "    print(\"Current instance: \", row['filename'])\n",
    "    num_jobs = row['num_jobs']\n",
    "    num_tools = row['num_tools']\n",
    "    magazine_capacity = row['magazine_capacity']\n",
    "    job_tools_requirements = row['job_tools']\n",
    "\n",
    "    jobs = [x for x in range(1, num_jobs + 1)]\n",
    "    tools = [x for x in range(1, num_tools + 1)]\n",
    "\n",
    "    #print(\"Jobs: \", jobs)\n",
    "    #print(\"Tools: \", tools)\n",
    "    #print(\"Magazine Capacity: \", magazine_capacity)\n",
    "    #print(\"Job Tools Requirements: \", job_tools_requirements)\n",
    "\n",
    "    model = JGSMFModel(jobs, tools, magazine_capacity, job_tools_requirements)\n",
    "\n",
    "    model.optimize()\n",
    "\n",
    "    if model.model.status == GRB.OPTIMAL:\n",
    "        solution_found = True\n",
    "        solution = model.get_solution()\n",
    "        print(\"Job Order: \", solution)\n",
    "    else:\n",
    "        solution_found = False\n",
    "        solution = None\n",
    "\n",
    "    runtime = model.model.Runtime\n",
    "\n",
    "\n",
    "    results.append([num_jobs, num_tools, magazine_capacity, solution_found, solution, runtime])\n",
    "\n",
    "results_df = pd.DataFrame(results, columns=['N', 'M', 'C', 'solution_found', 'solution', 'runtime'])\n",
    "results_df\n",
    "        \n",
    "\n"
   ]
  },
  {
   "cell_type": "code",
   "execution_count": 6,
   "metadata": {},
   "outputs": [
    {
     "name": "stdout",
     "output_type": "stream",
     "text": [
      "True Count:  330\n",
      "False Count:  0\n",
      "False Indices:  []\n"
     ]
    }
   ],
   "source": [
    "true_count = results_df['solution_found'].sum()\n",
    "false_count = results_df.shape[0] - true_count\n",
    "\n",
    "false_indices = results_df.index[results_df['solution_found'] == False].tolist()\n",
    "\n",
    "print(\"True Count: \", true_count)\n",
    "print(\"False Count: \", false_count)\n",
    "print(\"False Indices: \", false_indices)"
   ]
  },
  {
   "cell_type": "code",
   "execution_count": 5,
   "metadata": {},
   "outputs": [
    {
     "name": "stdout",
     "output_type": "stream",
     "text": [
      "L1-5.txt\n",
      "Number of Jobs:  9\n",
      "Number of Tools:  15\n",
      "Magazine Capacity:  5\n",
      "Job Tools Requirements:  {1: [4, 8, 13], 2: [2, 3, 6, 12], 3: [1, 7, 10, 11, 14], 4: [6, 10], 5: [12, 15], 6: [1, 5, 11], 7: [5, 8, 10], 8: [8, 9], 9: [7, 9]}\n",
      "Filename:  L1-5.txt\n"
     ]
    }
   ],
   "source": [
    "row_5 = df.iloc[5]\n",
    "print(row_5['filename'])\n",
    "num_jobs = row_5['num_jobs']\n",
    "num_tools = row_5['num_tools']\n",
    "magazine_capacity = row_5['magazine_capacity']\n",
    "job_tools_requirements = row_5['job_tools']\n",
    "filename = row_5['filename']\n",
    "print(\"Number of Jobs: \", num_jobs)\n",
    "print(\"Number of Tools: \", num_tools)\n",
    "print(\"Magazine Capacity: \", magazine_capacity)\n",
    "print(\"Job Tools Requirements: \", job_tools_requirements)\n",
    "print(\"Filename: \", filename)"
   ]
  },
  {
   "cell_type": "code",
   "execution_count": 19,
   "metadata": {},
   "outputs": [
    {
     "name": "stdout",
     "output_type": "stream",
     "text": [
      "[1, 2, 3, 4, 5, 6, 7, 8, 9, 10]\n",
      "[0, 1, 2, 3, 4, 5, 6, 7, 8, 9, 10, 11, 12]\n",
      "[1, 2, 3, 4, 5, 6, 7, 8, 9, 10]\n"
     ]
    }
   ],
   "source": [
    "jobs = list(range(1, 10+1))\n",
    "print(jobs)\n",
    "num_nodes = list(range(0, len(jobs) + 3))\n",
    "print(num_nodes)\n",
    "job_nodes = list(range(1, len(jobs) + 1))\n",
    "print(job_nodes)"
   ]
  },
  {
   "cell_type": "code",
   "execution_count": 11,
   "metadata": {},
   "outputs": [
    {
     "name": "stdout",
     "output_type": "stream",
     "text": [
      "6\n",
      "[0, 1, 2, 3, 4, 5, 6, 7, 8]\n",
      "[1, 2, 3, 4, 5]\n",
      "0\n",
      "7\n",
      "8\n",
      "----------------\n",
      "5\n",
      "[1, 2, 3, 4]\n"
     ]
    }
   ],
   "source": [
    "k = [1,2,3,4,5,6]\n",
    "print(len(k))\n",
    "print(list(range(0, len(k) + 3)))\n",
    "print(list(range(1, len(k))))\n",
    "START = 0\n",
    "REPO = len(k) + 1\n",
    "DETACHED = len(k) + 2\n",
    "print(START)\n",
    "print(REPO)\n",
    "print(DETACHED)\n",
    "print(\"----------------\")\n",
    "K = len(k) -1\n",
    "print(K)\n",
    "print(list(range(1, K)))"
   ]
  }
 ],
 "metadata": {
  "kernelspec": {
   "display_name": "Python 3",
   "language": "python",
   "name": "python3"
  },
  "language_info": {
   "codemirror_mode": {
    "name": "ipython",
    "version": 3
   },
   "file_extension": ".py",
   "mimetype": "text/x-python",
   "name": "python",
   "nbconvert_exporter": "python",
   "pygments_lexer": "ipython3",
   "version": "3.12.7"
  }
 },
 "nbformat": 4,
 "nbformat_minor": 2
}
