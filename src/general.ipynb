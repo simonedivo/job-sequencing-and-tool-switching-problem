{
 "cells": [
  {
   "cell_type": "code",
   "execution_count": 1,
   "metadata": {},
   "outputs": [
    {
     "name": "stdout",
     "output_type": "stream",
     "text": [
      "Cliques: [[5, 1], [5, 2], [5, 3, 6], [5, 4]]\n",
      "Set parameter Username\n",
      "Academic license - for non-commercial use only - expires 2025-04-23\n",
      "Gurobi Optimizer version 11.0.1 build v11.0.1rc0 (linux64 - \"Fedora Linux 40 (Workstation Edition)\")\n",
      "\n",
      "CPU model: Intel(R) Core(TM) i5-8350U CPU @ 1.70GHz, instruction set [SSE2|AVX|AVX2]\n",
      "Thread count: 4 physical cores, 8 logical processors, using up to 8 threads\n",
      "\n",
      "Optimize a model with 697 rows, 1254 columns and 3452 nonzeros\n",
      "Model fingerprint: 0xcf491efe\n",
      "Variable types: 0 continuous, 1254 integer (1254 binary)\n",
      "Coefficient statistics:\n",
      "  Matrix range     [2e-01, 3e+00]\n",
      "  Objective range  [1e+00, 1e+00]\n",
      "  Bounds range     [1e+00, 1e+00]\n",
      "  RHS range        [1e+00, 3e+00]\n",
      "Presolve removed 512 rows and 1091 columns\n",
      "Presolve time: 0.00s\n",
      "\n",
      "Explored 0 nodes (0 simplex iterations) in 0.01 seconds (0.00 work units)\n",
      "Thread count was 1 (of 8 available processors)\n",
      "\n",
      "Solution count 0\n",
      "\n",
      "Model is infeasible\n",
      "Best objective -, best bound -, gap -\n",
      "Model is infeasible\n",
      "No optimal solution found.\n",
      "None\n"
     ]
    }
   ],
   "source": [
    "from gurobipy import GRB\n",
    "from models.SSPMF import SSPMFModel\n",
    "from models.JGSMF import JGSMFModel\n",
    "import pandas as pd\n",
    "import os\n",
    "\n",
    "def retrieve_format_data(file_path):\n",
    "    with open(file_path, 'r') as file:\n",
    "        lines = file.readlines()\n",
    "        \n",
    "        first_row = lines[0].strip().split()\n",
    "        num_jobs = int(first_row[0])\n",
    "        num_tools = int(first_row[1])\n",
    "        magazine_capacity = int(first_row[2])\n",
    "        \n",
    "        job_tools = {job: [] for job in range(1, num_jobs + 1)}\n",
    "        \n",
    "        for tool_index, line in enumerate(lines[1:], start=1):\n",
    "            tool_requirements = [int(x) for x in line.strip().split()]\n",
    "            for job_index, requirement in enumerate(tool_requirements, start=1):\n",
    "                if requirement == 1:\n",
    "                    job_tools[job_index].append(tool_index)\n",
    "                    \n",
    "    return num_jobs, num_tools, magazine_capacity, job_tools\n",
    "\n",
    "directory = '../data/MTSP/Laporte/Tabela4/'\n",
    "data = []\n",
    "\n",
    "for filename in os.listdir(directory):\n",
    "    if filename.endswith('.txt'):\n",
    "        file_path = os.path.join(directory, filename)\n",
    "        num_jobs, num_tools, magazine_capacity, job_tools = retrieve_format_data(file_path)\n",
    "        data.append([filename, num_jobs, num_tools, magazine_capacity, job_tools])\n",
    "\n",
    "df = pd.DataFrame(data, columns=['filename', 'num_jobs', 'num_tools', 'magazine_capacity', 'job_tools'])\n",
    "#df = df.sample(frac=0.02).reset_index(drop=True)"
   ]
  },
  {
   "cell_type": "code",
   "execution_count": 5,
   "metadata": {},
   "outputs": [
    {
     "name": "stdout",
     "output_type": "stream",
     "text": [
      "Number of Jobs: 9\n",
      "Number of Tools: 15\n",
      "Magazine Capacity: 5\n",
      "Job Tool Requirements: {1: [10, 12], 2: [3, 8, 12, 13, 14], 3: [4, 10], 4: [6, 8, 9, 14, 15], 5: [4, 9, 15], 6: [2, 5, 7, 13, 15], 7: [11, 14], 8: [4, 5, 14], 9: [1, 9]}\n"
     ]
    }
   ],
   "source": [
    "file_path = '../data/MTSP/Laporte/Tabela4/L1-1.txt'\n",
    "num_jobs, num_tools, magazine_capacity, job_tools = retrieve_format_data(file_path)\n",
    "\n",
    "print(\"Number of Jobs:\", num_jobs)\n",
    "print(\"Number of Tools:\", num_tools)\n",
    "print(\"Magazine Capacity:\", magazine_capacity)\n",
    "print(\"Job Tool Requirements:\", job_tools)"
   ]
  },
  {
   "cell_type": "code",
   "execution_count": 6,
   "metadata": {},
   "outputs": [
    {
     "name": "stdout",
     "output_type": "stream",
     "text": [
      "Jobs: [1, 2, 3, 4, 5, 6, 7, 8, 9]\n",
      "Tools: [1, 2, 3, 4, 5, 6, 7, 8, 9, 10, 11, 12, 13, 14, 15]\n"
     ]
    }
   ],
   "source": [
    "jobs = [x for x in range(1, num_jobs + 1)]\n",
    "tools = [x for x in range(1, num_tools + 1)]\n",
    "print(\"Jobs:\", jobs)\n",
    "print(\"Tools:\", tools)"
   ]
  },
  {
   "cell_type": "code",
   "execution_count": null,
   "metadata": {},
   "outputs": [],
   "source": [
    "for i, t in job_tools.items():\n",
    "    if i == 4:\n",
    "        print(t)"
   ]
  },
  {
   "cell_type": "code",
   "execution_count": 2,
   "metadata": {},
   "outputs": [],
   "source": [
    "directory = '../data/MTSP/Laporte/Tabela4/'\n",
    "data = []\n",
    "\n",
    "for filename in os.listdir(directory):\n",
    "    if filename.endswith('.txt'):\n",
    "        file_path = os.path.join(directory, filename)\n",
    "        num_jobs, num_tools, magazine_capacity, job_tools = retrieve_format_data(file_path)\n",
    "        data.append([num_jobs, num_tools, magazine_capacity, job_tools])\n",
    "\n",
    "df = pd.DataFrame(data, columns=['num_jobs', 'num_tools', 'magazine_capacity', 'job_tools'])\n",
    "df = df.sample(frac=0.02).reset_index(drop=True)"
   ]
  },
  {
   "cell_type": "code",
   "execution_count": null,
   "metadata": {},
   "outputs": [],
   "source": [
    "results = []\n",
    "\n",
    "for index, row in df.iterrows():\n",
    "    num_jobs = row['num_jobs']\n",
    "    num_tools = row['num_tools']\n",
    "    magazine_capacity = row['magazine_capacity']\n",
    "    job_tools_requirements = row['job_tools']\n",
    "\n",
    "    jobs = [x for x in range(1, num_jobs + 1)]\n",
    "    tools = [x for x in range(1, num_tools + 1)]\n",
    "\n",
    "    #print(\"Jobs: \", jobs)\n",
    "    #print(\"Tools: \", tools)\n",
    "    #print(\"Magazine Capacity: \", magazine_capacity)\n",
    "    #print(\"Job Tools Requirements: \", job_tools_requirements)\n",
    "\n",
    "    model = JGSMFModel(jobs, tools, magazine_capacity, job_tools_requirements)\n",
    "    model.model.setParam('OutputFlag', 0) # Suppress Gurobi output\n",
    "    model.model.setParam('TimeLimit', 60*60) # 1 hour time limit for each iteration\n",
    "\n",
    "    print(\"Iteration number \", index)\n",
    "    model.optimize()\n",
    "\n",
    "    if model.model.status == GRB.OPTIMAL:\n",
    "        solution_found = True\n",
    "        solution = model.get_solution()\n",
    "    else:\n",
    "        solution_found = False\n",
    "        solution = None\n",
    "\n",
    "    runtime = model.model.Runtime\n",
    "\n",
    "    results.append([num_jobs, num_tools, magazine_capacity, solution_found, solution, runtime])\n",
    "\n",
    "results_df = pd.DataFrame(results, columns=['N', 'M', 'C', 'solution_found', 'solution', 'runtime'])\n",
    "results_df\n",
    "        \n",
    "\n"
   ]
  },
  {
   "cell_type": "markdown",
   "metadata": {},
   "source": [
    "With original model"
   ]
  },
  {
   "cell_type": "code",
   "execution_count": 3,
   "metadata": {},
   "outputs": [
    {
     "name": "stdout",
     "output_type": "stream",
     "text": [
      "True Count:  330\n",
      "False Count:  0\n",
      "False Indices:  []\n"
     ]
    }
   ],
   "source": [
    "true_count = results_df['solution_found'].sum()\n",
    "false_count = results_df.shape[0] - true_count\n",
    "\n",
    "false_indices = results_df.index[results_df['solution_found'] == False].tolist()\n",
    "\n",
    "print(\"True Count: \", true_count)\n",
    "print(\"False Count: \", false_count)\n",
    "print(\"False Indices: \", false_indices)"
   ]
  },
  {
   "cell_type": "markdown",
   "metadata": {},
   "source": [
    "With \"working\" sspmf from new paper (in first sum of constraint 2i the upper limit was set to N-1 instead of N-2)"
   ]
  },
  {
   "cell_type": "code",
   "execution_count": 10,
   "metadata": {},
   "outputs": [
    {
     "name": "stdout",
     "output_type": "stream",
     "text": [
      "True Count:  299\n",
      "False Count:  31\n",
      "False Indices:  [18, 23, 25, 27, 28, 29, 82, 83, 84, 85, 86, 87, 88, 89, 161, 170, 175, 178, 180, 181, 183, 184, 186, 187, 188, 189, 194, 278, 289, 291, 318]\n"
     ]
    }
   ],
   "source": [
    "true_count = results_df['solution_found'].sum()\n",
    "false_count = results_df.shape[0] - true_count\n",
    "\n",
    "false_indices = results_df.index[results_df['solution_found'] == False].tolist()\n",
    "\n",
    "print(\"True Count: \", true_count)\n",
    "print(\"False Count: \", false_count)\n",
    "print(\"False Indices: \", false_indices)"
   ]
  },
  {
   "cell_type": "code",
   "execution_count": 11,
   "metadata": {},
   "outputs": [
    {
     "name": "stdout",
     "output_type": "stream",
     "text": [
      "Number of Jobs:  9\n",
      "Number of Tools:  25\n",
      "Magazine Capacity:  15\n",
      "Job Tools Requirements:  {1: [1, 3, 4, 6, 7, 9, 10, 12, 13, 15, 17, 18, 20, 21, 25], 2: [3, 4, 5, 8, 12, 17, 18, 19, 21, 22, 23], 3: [4, 11, 12, 13, 14, 18, 20, 22, 23, 25], 4: [4, 5, 8, 10, 11, 12, 13, 15, 17, 19, 20, 23, 24], 5: [1, 2, 5, 6, 7, 14, 15, 16, 18, 21, 22, 24], 6: [2, 5, 7, 9, 10, 13, 14, 15, 16, 17, 19, 20, 24], 7: [3, 5, 6, 7, 9, 12, 15, 16, 17, 24], 8: [1, 3, 5, 6, 7, 8, 12, 13, 16, 17, 18, 21, 23, 24, 25], 9: [1, 4, 6, 7, 8, 9, 10, 11, 13, 14, 17, 19, 21, 22, 23]}\n",
      "Filename:  L17-2.txt\n"
     ]
    }
   ],
   "source": [
    "row_82 = df.iloc[82]\n",
    "num_jobs = row_82['num_jobs']\n",
    "num_tools = row_82['num_tools']\n",
    "magazine_capacity = row_82['magazine_capacity']\n",
    "job_tools_requirements = row_82['job_tools']\n",
    "filename = row_82['filename']\n",
    "print(\"Number of Jobs: \", num_jobs)\n",
    "print(\"Number of Tools: \", num_tools)\n",
    "print(\"Magazine Capacity: \", magazine_capacity)\n",
    "print(\"Job Tools Requirements: \", job_tools_requirements)\n",
    "print(\"Filename: \", filename)"
   ]
  },
  {
   "cell_type": "code",
   "execution_count": 4,
   "metadata": {},
   "outputs": [
    {
     "name": "stdout",
     "output_type": "stream",
     "text": [
      "[1, 2, 3, 4, 5, 6, 7, 8, 9, 10]\n",
      "N:  10\n",
      "N-1:  9\n",
      "N-2:  8\n",
      "1\n",
      "2\n",
      "3\n",
      "4\n",
      "5\n",
      "6\n",
      "7\n",
      "8\n",
      "9\n"
     ]
    }
   ],
   "source": [
    "job_nodes = list(range(1, 10+1))\n",
    "print(job_nodes)\n",
    "print(\"N: \", len(job_nodes))\n",
    "print(\"N-1: \", len(job_nodes)-1)\n",
    "print(\"N-2: \", len(job_nodes)-2)\n",
    "for i in range(1, len(job_nodes)):\n",
    "    print(i)"
   ]
  },
  {
   "cell_type": "code",
   "execution_count": 19,
   "metadata": {},
   "outputs": [
    {
     "name": "stdout",
     "output_type": "stream",
     "text": [
      "[1, 2, 3, 4, 5, 6, 7, 8, 9, 10]\n",
      "[0, 1, 2, 3, 4, 5, 6, 7, 8, 9, 10, 11, 12]\n",
      "[1, 2, 3, 4, 5, 6, 7, 8, 9, 10]\n"
     ]
    }
   ],
   "source": [
    "jobs = list(range(1, 10+1))\n",
    "print(jobs)\n",
    "num_nodes = list(range(0, len(jobs) + 3))\n",
    "print(num_nodes)\n",
    "job_nodes = list(range(1, len(jobs) + 1))\n",
    "print(job_nodes)"
   ]
  },
  {
   "cell_type": "code",
   "execution_count": 11,
   "metadata": {},
   "outputs": [
    {
     "name": "stdout",
     "output_type": "stream",
     "text": [
      "6\n",
      "[0, 1, 2, 3, 4, 5, 6, 7, 8]\n",
      "[1, 2, 3, 4, 5]\n",
      "0\n",
      "7\n",
      "8\n",
      "----------------\n",
      "5\n",
      "[1, 2, 3, 4]\n"
     ]
    }
   ],
   "source": [
    "k = [1,2,3,4,5,6]\n",
    "print(len(k))\n",
    "print(list(range(0, len(k) + 3)))\n",
    "print(list(range(1, len(k))))\n",
    "START = 0\n",
    "REPO = len(k) + 1\n",
    "DETACHED = len(k) + 2\n",
    "print(START)\n",
    "print(REPO)\n",
    "print(DETACHED)\n",
    "print(\"----------------\")\n",
    "K = len(k) -1\n",
    "print(K)\n",
    "print(list(range(1, K)))"
   ]
  }
 ],
 "metadata": {
  "kernelspec": {
   "display_name": "Python 3",
   "language": "python",
   "name": "python3"
  },
  "language_info": {
   "codemirror_mode": {
    "name": "ipython",
    "version": 3
   },
   "file_extension": ".py",
   "mimetype": "text/x-python",
   "name": "python",
   "nbconvert_exporter": "python",
   "pygments_lexer": "ipython3",
   "version": "3.12.7"
  }
 },
 "nbformat": 4,
 "nbformat_minor": 2
}
