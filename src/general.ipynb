{
 "cells": [
  {
   "cell_type": "code",
   "execution_count": null,
   "metadata": {},
   "outputs": [],
   "source": [
    "from gurobipy import GRB\n",
    "from models.SSPMF import SSPMFModel\n",
    "import pandas as pd\n",
    "import os\n",
    "\n",
    "def retrieve_format_data(file_path):\n",
    "    with open(file_path, 'r') as file:\n",
    "        lines = file.readlines()\n",
    "        \n",
    "        first_row = lines[0].strip().split()\n",
    "        num_jobs = int(first_row[0])\n",
    "        num_tools = int(first_row[1])\n",
    "        magazine_capacity = int(first_row[2])\n",
    "        \n",
    "        job_tools = {job: [] for job in range(1, num_jobs + 1)}\n",
    "        \n",
    "        for tool_index, line in enumerate(lines[1:], start=1):\n",
    "            tool_requirements = [int(x) for x in line.strip().split()]\n",
    "            for job_index, requirement in enumerate(tool_requirements, start=1):\n",
    "                if requirement == 1:\n",
    "                    job_tools[job_index].append(tool_index)\n",
    "                    \n",
    "    return num_jobs, num_tools, magazine_capacity, job_tools\n",
    "\n",
    "directory = '../data/MTSP/Laporte/Tabela4/'\n",
    "data = []\n",
    "\n",
    "for filename in os.listdir(directory):\n",
    "    if filename.endswith('.txt'):\n",
    "        file_path = os.path.join(directory, filename)\n",
    "        num_jobs, num_tools, magazine_capacity, job_tools = retrieve_format_data(file_path)\n",
    "        data.append([num_jobs, num_tools, magazine_capacity, job_tools])\n",
    "\n",
    "df = pd.DataFrame(data, columns=['num_jobs', 'num_tools', 'magazine_capacity', 'job_tools'])\n",
    "df = df.sample(frac=0.02).reset_index(drop=True)"
   ]
  },
  {
   "cell_type": "code",
   "execution_count": null,
   "metadata": {},
   "outputs": [],
   "source": [
    "file_path = '../data/MTSP/Laporte/Tabela4/L1-1.txt'\n",
    "num_jobs, num_tools, magazine_capacity, job_tools = retrieve_format_data(file_path)\n",
    "\n",
    "print(\"Number of Jobs:\", num_jobs)\n",
    "print(\"Number of Tools:\", num_tools)\n",
    "print(\"Magazine Capacity:\", magazine_capacity)\n",
    "print(\"Job Tool Requirements:\", job_tools)"
   ]
  },
  {
   "cell_type": "code",
   "execution_count": null,
   "metadata": {},
   "outputs": [],
   "source": [
    "jobs = [x for x in range(1, num_jobs + 1)]\n",
    "tools = [x for x in range(1, num_tools + 1)]\n",
    "print(\"Jobs:\", jobs)\n",
    "print(\"Tools:\", tools)"
   ]
  },
  {
   "cell_type": "code",
   "execution_count": null,
   "metadata": {},
   "outputs": [],
   "source": [
    "for i, t in job_tools.items():\n",
    "    if i == 4:\n",
    "        print(t)"
   ]
  },
  {
   "cell_type": "code",
   "execution_count": 2,
   "metadata": {},
   "outputs": [],
   "source": [
    "directory = '../data/MTSP/Laporte/Tabela4/'\n",
    "data = []\n",
    "\n",
    "for filename in os.listdir(directory):\n",
    "    if filename.endswith('.txt'):\n",
    "        file_path = os.path.join(directory, filename)\n",
    "        num_jobs, num_tools, magazine_capacity, job_tools = retrieve_format_data(file_path)\n",
    "        data.append([num_jobs, num_tools, magazine_capacity, job_tools])\n",
    "\n",
    "df = pd.DataFrame(data, columns=['num_jobs', 'num_tools', 'magazine_capacity', 'job_tools'])\n",
    "df = df.sample(frac=0.02).reset_index(drop=True)"
   ]
  },
  {
   "cell_type": "code",
   "execution_count": 22,
   "metadata": {},
   "outputs": [
    {
     "name": "stdout",
     "output_type": "stream",
     "text": [
      "No feasible solution found.\n",
      "No feasible solution found.\n",
      "No feasible solution found.\n",
      "No feasible solution found.\n",
      "No feasible solution found.\n",
      "No feasible solution found.\n",
      "No feasible solution found.\n"
     ]
    },
    {
     "data": {
      "text/html": [
       "<div>\n",
       "<style scoped>\n",
       "    .dataframe tbody tr th:only-of-type {\n",
       "        vertical-align: middle;\n",
       "    }\n",
       "\n",
       "    .dataframe tbody tr th {\n",
       "        vertical-align: top;\n",
       "    }\n",
       "\n",
       "    .dataframe thead th {\n",
       "        text-align: right;\n",
       "    }\n",
       "</style>\n",
       "<table border=\"1\" class=\"dataframe\">\n",
       "  <thead>\n",
       "    <tr style=\"text-align: right;\">\n",
       "      <th></th>\n",
       "      <th>solution_found</th>\n",
       "      <th>solution</th>\n",
       "    </tr>\n",
       "  </thead>\n",
       "  <tbody>\n",
       "    <tr>\n",
       "      <th>0</th>\n",
       "      <td>False</td>\n",
       "      <td>None</td>\n",
       "    </tr>\n",
       "    <tr>\n",
       "      <th>1</th>\n",
       "      <td>False</td>\n",
       "      <td>None</td>\n",
       "    </tr>\n",
       "    <tr>\n",
       "      <th>2</th>\n",
       "      <td>False</td>\n",
       "      <td>None</td>\n",
       "    </tr>\n",
       "    <tr>\n",
       "      <th>3</th>\n",
       "      <td>False</td>\n",
       "      <td>None</td>\n",
       "    </tr>\n",
       "    <tr>\n",
       "      <th>4</th>\n",
       "      <td>False</td>\n",
       "      <td>None</td>\n",
       "    </tr>\n",
       "    <tr>\n",
       "      <th>5</th>\n",
       "      <td>False</td>\n",
       "      <td>None</td>\n",
       "    </tr>\n",
       "    <tr>\n",
       "      <th>6</th>\n",
       "      <td>False</td>\n",
       "      <td>None</td>\n",
       "    </tr>\n",
       "  </tbody>\n",
       "</table>\n",
       "</div>"
      ],
      "text/plain": [
       "   solution_found solution\n",
       "0           False     None\n",
       "1           False     None\n",
       "2           False     None\n",
       "3           False     None\n",
       "4           False     None\n",
       "5           False     None\n",
       "6           False     None"
      ]
     },
     "execution_count": 22,
     "metadata": {},
     "output_type": "execute_result"
    }
   ],
   "source": [
    "results = []\n",
    "\n",
    "for index, row in df.iterrows():\n",
    "    num_jobs = row['num_jobs']\n",
    "    num_tools = row['num_tools']\n",
    "    magazine_capacity = row['magazine_capacity']\n",
    "    job_tools_requirements = row['job_tools']\n",
    "\n",
    "    jobs = [x for x in range(1, num_jobs + 1)]\n",
    "    tools = [x for x in range(1, num_tools + 1)]\n",
    "\n",
    "    #print(\"Jobs, Tools, Magazine Capacity, Job Tools:\", jobs, tools, magazine_capacity, job_tools)\n",
    "\n",
    "    model = SSPMFModel(jobs, tools, magazine_capacity, job_tools_requirements)\n",
    "    model.model.setParam('OutputFlag', 0)\n",
    "    model.model.setParam('TimeLimit', 60*60)\n",
    "\n",
    "    model.optimize()\n",
    "\n",
    "    if model.model.status == GRB.OPTIMAL:\n",
    "        solution_found = True\n",
    "        solution = model.get_solution()\n",
    "    else:\n",
    "        solution_found = False\n",
    "        solution = None\n",
    "\n",
    "    results.append([solution_found, solution])\n",
    "\n",
    "results_df = pd.DataFrame(results, columns=['solution_found', 'solution'])\n",
    "results_df\n",
    "        \n",
    "\n"
   ]
  },
  {
   "cell_type": "code",
   "execution_count": 20,
   "metadata": {},
   "outputs": [
    {
     "data": {
      "text/plain": [
       "2"
      ]
     },
     "execution_count": 20,
     "metadata": {},
     "output_type": "execute_result"
    }
   ],
   "source": [
    "import math\n",
    "\n",
    "x = math.ceil(3/2)\n",
    "x"
   ]
  },
  {
   "cell_type": "code",
   "execution_count": 10,
   "metadata": {},
   "outputs": [
    {
     "name": "stdout",
     "output_type": "stream",
     "text": [
      "[1, 2, 3, 4, 5, 6, 7, 8, 9, 10]\n",
      "N:  10\n",
      "N-1:  9\n",
      "N-2:  8\n",
      "1\n",
      "2\n",
      "3\n",
      "4\n",
      "5\n",
      "6\n",
      "7\n",
      "8\n",
      "9\n"
     ]
    }
   ],
   "source": [
    "job_nodes = list(range(1, 10+1))\n",
    "print(job_nodes)\n",
    "print(\"N: \", len(job_nodes))\n",
    "print(\"N-1: \", len(job_nodes)-1)\n",
    "print(\"N-2: \", len(job_nodes)-2)\n",
    "for i in range(1, len(job_nodes)):\n",
    "    print(i)"
   ]
  },
  {
   "cell_type": "code",
   "execution_count": 19,
   "metadata": {},
   "outputs": [
    {
     "name": "stdout",
     "output_type": "stream",
     "text": [
      "[1, 2, 3, 4, 5, 6, 7, 8, 9, 10]\n",
      "[0, 1, 2, 3, 4, 5, 6, 7, 8, 9, 10, 11, 12]\n",
      "[1, 2, 3, 4, 5, 6, 7, 8, 9, 10]\n"
     ]
    }
   ],
   "source": [
    "jobs = list(range(1, 10+1))\n",
    "print(jobs)\n",
    "num_nodes = list(range(0, len(jobs) + 3))\n",
    "print(num_nodes)\n",
    "job_nodes = list(range(1, len(jobs) + 1))\n",
    "print(job_nodes)"
   ]
  }
 ],
 "metadata": {
  "kernelspec": {
   "display_name": "Python 3",
   "language": "python",
   "name": "python3"
  },
  "language_info": {
   "codemirror_mode": {
    "name": "ipython",
    "version": 3
   },
   "file_extension": ".py",
   "mimetype": "text/x-python",
   "name": "python",
   "nbconvert_exporter": "python",
   "pygments_lexer": "ipython3",
   "version": "3.12.7"
  }
 },
 "nbformat": 4,
 "nbformat_minor": 2
}
